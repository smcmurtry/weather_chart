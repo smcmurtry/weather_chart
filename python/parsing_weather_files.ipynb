{
 "cells": [
  {
   "cell_type": "markdown",
   "metadata": {},
   "source": [
    "## Parsing weather files "
   ]
  },
  {
   "cell_type": "markdown",
   "metadata": {},
   "source": [
    "The end result of parsing should be to get 3 csv files: 1) the historical daily highs/lows (alminac), 2) the historical monthly average precipitation (precip_normal), 3) the recent daily highs/lows and precipitation (weather), 4) metadata file to tie the files together: filenames, unique place identifier, units for each file, etc."
   ]
  },
  {
   "cell_type": "code",
   "execution_count": 1,
   "metadata": {
    "collapsed": true
   },
   "outputs": [],
   "source": [
    "import pandas as pd"
   ]
  },
  {
   "cell_type": "markdown",
   "metadata": {},
   "source": [
    "#### Final Format "
   ]
  },
  {
   "cell_type": "code",
   "execution_count": 2,
   "metadata": {
    "collapsed": true
   },
   "outputs": [],
   "source": [
    "almanac_columns = ['month', 'day', 'T_high_avg', 'T_low_avg', 'T_max', \n",
    "                   'T_min', 'T_max_yr', 'T_min_yr', 'period_T_high', 'period_T_low']\n",
    "df_alminac = pd.DataFrame(columns=almanac_columns, index=range(366))"
   ]
  },
  {
   "cell_type": "code",
   "execution_count": 3,
   "metadata": {
    "collapsed": true
   },
   "outputs": [],
   "source": [
    "precip_normal_columns = ['month', 'h_all_precip', 'h_rain', 'h_snow']\n",
    "df_precip_normal = pd.DataFrame(columns=precip_normal_columns, index=range(12))"
   ]
  },
  {
   "cell_type": "code",
   "execution_count": 4,
   "metadata": {
    "collapsed": true
   },
   "outputs": [],
   "source": [
    "weather_columns = ['date', 'T_high', 'T_low', 'h_all_precip']\n",
    "df_weather = pd.DataFrame(columns=weather_columns, index=range(365))"
   ]
  },
  {
   "cell_type": "markdown",
   "metadata": {},
   "source": [
    "#### Parsing the files with daily data "
   ]
  },
  {
   "cell_type": "code",
   "execution_count": 5,
   "metadata": {
    "collapsed": false
   },
   "outputs": [],
   "source": [
    "def parse_daily_file(old_filepath, new_filepath, col_dict):\n",
    "    f = open(old_filepath, 'r')\n",
    "    s = f.readlines()\n",
    "    f.close()\n",
    "    obj = {}\n",
    "    n = 0\n",
    "    \n",
    "    while s[n] != '\\n':\n",
    "        prop = s[n].split(',')[0][1:-1]\n",
    "        val = s[n].split(',')[1][1:-2]\n",
    "        obj[prop] = val\n",
    "        n+=1\n",
    "    \n",
    "    # skip the data legend\n",
    "    n+=1\n",
    "    while s[n] != '\\n': n+=1\n",
    "    \n",
    "    df = pd.DataFrame.from_csv(old_filepath, header=n+1, index_col=None)\n",
    "\n",
    "    # If this doesn't work I could use the column position\n",
    "    for c in df.columns: \n",
    "        if c in col_dict:\n",
    "            # put the snow height in mm\n",
    "            if '(cm)' in c: df[c] = 10.*df[c]\n",
    "            df[col_dict[c]] = df[c]\n",
    "        del df[c]\n",
    "\n",
    "    df.to_csv(new_filepath, index=False)\n",
    "#     obj['fname'] = new_filepath\n",
    "#     return obj"
   ]
  },
  {
   "cell_type": "code",
   "execution_count": 8,
   "metadata": {
    "collapsed": false
   },
   "outputs": [],
   "source": [
    "almanac_col_dict = {'Month': 'month', 'Day': 'day', \n",
    "                    'Average Max. Temp. (°C)': 'T_high_avg', \n",
    "                    'Average Min. Temp. (°C)': 'T_low_avg', \n",
    "                    'Highest Temp. (°C)': 'T_max', \n",
    "                    'Lowest Temp. (°C)': 'T_min', \n",
    "                    'Highest Temp.Year': 'T_max_year', \n",
    "                    'Lowest Temp. Year': 'T_min_year',\n",
    "                    'Highest Temp. Period': 'period_T_high', \n",
    "                    'Lowest Temp. Period': 'period_T_low'}\n",
    "old_filepath = \"../data/almanac/to.csv\"\n",
    "new_filepath = \"../data/almanac/to_clean.csv\"\n",
    "parse_daily_file(old_filepath, new_filepath, almanac_col_dict)    "
   ]
  },
  {
   "cell_type": "markdown",
   "metadata": {},
   "source": [
    "#### Parsing the precipitation files "
   ]
  },
  {
   "cell_type": "code",
   "execution_count": 9,
   "metadata": {
    "collapsed": false
   },
   "outputs": [],
   "source": [
    "def parse_precipitation(old_filepath, new_filepath):\n",
    "    f = open(old_filepath, 'r')\n",
    "    s = f.readlines()\n",
    "    f.close()\n",
    "\n",
    "    key = s[3].split(',')\n",
    "    val = s[4].split(',')\n",
    "\n",
    "    metadata = {key[m].replace('\"', ''): val[m].replace('\"', '') for m, _ in enumerate(key)}\n",
    "\n",
    "    n = 0\n",
    "    while s[n] != '\"Precipitation\"\\n': n+=1\n",
    "\n",
    "    r_1 = s[n+1].split(',')\n",
    "    r_2 = s[n+2].split(',')\n",
    "    r_3 = s[n+3].split(',')\n",
    "\n",
    "    if not (r_1[0] == '\"Rainfall (mm)\"' and\n",
    "            r_2[0] == '\"Snowfall (cm)\"' and \n",
    "            r_3[0] == '\"Precipitation (mm)\"'):\n",
    "        print 'error'\n",
    "\n",
    "    cols = ['month', 'h_all_precip', 'h_rain', 'h_snow']\n",
    "    df = pd.DataFrame(columns=cols, index=range(12))\n",
    "\n",
    "    df['month'] = range(1, 13)\n",
    "    df['h_all_precip'] = [float(x.replace('\"', '')) for x in r_3[1:13]]\n",
    "    df['h_rain'] = [float(x.replace('\"', '')) for x in r_1[1:13]]\n",
    "    df['h_snow'] = [10.*float(x.replace('\"', '')) for x in r_2[1:13]]\n",
    "\n",
    "    df.to_csv(new_filepath, index=False)\n",
    "    return metadata"
   ]
  },
  {
   "cell_type": "code",
   "execution_count": 10,
   "metadata": {
    "collapsed": true
   },
   "outputs": [],
   "source": [
    "old_filepath = \"../data/precipitation/to.csv\"\n",
    "new_filepath = \"../data/precipitation/to_clean.csv\"\n",
    "obj = parse_precipitation(old_filepath, new_filepath)"
   ]
  },
  {
   "cell_type": "code",
   "execution_count": 11,
   "metadata": {
    "collapsed": false
   },
   "outputs": [
    {
     "data": {
      "text/plain": [
       "{'CLIMATE_ID': '6158350',\n",
       " 'ELEVATION': '112.5 m',\n",
       " 'LATITUDE': \" 43\\xb040'00.000 N\",\n",
       " 'LONGITUDE': \" 79\\xb024'00.000 W\",\n",
       " 'PROVINCE': 'ON',\n",
       " 'STATION_NAME': 'TORONTO',\n",
       " 'TC_ID\\n': '\\n',\n",
       " 'WMO_ID': '71266'}"
      ]
     },
     "execution_count": 11,
     "metadata": {},
     "output_type": "execute_result"
    }
   ],
   "source": [
    "obj"
   ]
  },
  {
   "cell_type": "markdown",
   "metadata": {},
   "source": [
    "#### Parse Weather File "
   ]
  },
  {
   "cell_type": "code",
   "execution_count": 12,
   "metadata": {
    "collapsed": true
   },
   "outputs": [],
   "source": [
    "weather_columns = ['date', 'T_high', 'T_low', 'h_all_precip']\n",
    "df_weather = pd.DataFrame(columns=weather_columns, index=range(365))"
   ]
  },
  {
   "cell_type": "code",
   "execution_count": 16,
   "metadata": {
    "collapsed": true
   },
   "outputs": [],
   "source": [
    "old_filepath = '../data/daily_weather/to_intl_a.csv'\n",
    "new_filepath = '../data/daily_weather/to_intl_a_clean.csv'\n",
    "weather_col_dict = {'Date/Time': 'date', 'Max Temp (°C)': 'T_high', \n",
    "                    'Min Temp (°C)': 'T_low', 'Total Rain (mm)': 'h_rain',\n",
    "                    'Total Snow (cm)': 'h_snow', 'Total Precip (mm)': 'h_all_precip'}"
   ]
  },
  {
   "cell_type": "code",
   "execution_count": 17,
   "metadata": {
    "collapsed": true
   },
   "outputs": [],
   "source": [
    "parse_daily_file(old_filepath, new_filepath, weather_col_dict)"
   ]
  },
  {
   "cell_type": "markdown",
   "metadata": {
    "collapsed": true
   },
   "source": [
    "#### Save a lookup table for the files "
   ]
  },
  {
   "cell_type": "code",
   "execution_count": null,
   "metadata": {
    "collapsed": true
   },
   "outputs": [],
   "source": [
    "file_lookup = [{'city':'Toronto', 'prov': 'ON', 'daily_weather': '/daily_weather/to_intl_a_clean.csv',\n",
    "                'almanac': '/almanac/to_clean.csv', 'precipitation': '/precipitation/to_clean.csv'},\n",
    "               {'city': 'Yellowknife', 'prov': 'NWT', 'daily_weather': '/daily_weather/yk_clean.csv',\n",
    "                'almanac': '/almanac/yk_clean.csv', 'precipitation': '/precipitation/yk_clean.csv'}]"
   ]
  }
 ],
 "metadata": {
  "kernelspec": {
   "display_name": "Python 2",
   "language": "python",
   "name": "python2"
  },
  "language_info": {
   "codemirror_mode": {
    "name": "ipython",
    "version": 2
   },
   "file_extension": ".py",
   "mimetype": "text/x-python",
   "name": "python",
   "nbconvert_exporter": "python",
   "pygments_lexer": "ipython2",
   "version": "2.7.10"
  }
 },
 "nbformat": 4,
 "nbformat_minor": 0
}
