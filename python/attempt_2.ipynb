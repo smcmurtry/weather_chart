{
 "cells": [
  {
   "cell_type": "code",
   "execution_count": 1,
   "metadata": {
    "collapsed": true
   },
   "outputs": [],
   "source": [
    "import os\n",
    "import time\n",
    "from selenium import webdriver\n",
    "from selenium.webdriver.common.by import By\n",
    "from selenium.webdriver.support.ui import WebDriverWait\n",
    "from selenium.webdriver.support import expected_conditions as EC\n",
    "from selenium.common.exceptions import TimeoutException\n",
    "from selenium.common.exceptions import ElementNotVisibleException\n",
    "from selenium.webdriver.support.ui import Select"
   ]
  },
  {
   "cell_type": "markdown",
   "metadata": {},
   "source": [
    "## Historical Daily Temperatures "
   ]
  },
  {
   "cell_type": "code",
   "execution_count": 2,
   "metadata": {
    "collapsed": true
   },
   "outputs": [],
   "source": [
    "# from http://www.marinamele.com/selenium-tutorial-web-scraping-with-selenium-and-python\n",
    "def init_driver(download_path):\n",
    "    profile = webdriver.FirefoxProfile();\n",
    "    profile.set_preference(\"browser.download.dir\", download_path)\n",
    "    profile.set_preference(\"browser.download.folderList\", 2) # ?\n",
    "    profile.set_preference(\"browser.helperApps.neverAsk.saveToDisk\", \"application/force-download, text/csv\")\n",
    "    driver = webdriver.Firefox(firefox_profile=profile)\n",
    "    driver.wait = WebDriverWait(driver, 5)\n",
    "    return driver\n",
    "\n",
    "def get_stn_id_from_url(url):\n",
    "    for s in url.split('&'):\n",
    "        if 'StationID' in s: return s.split('=')[1]\n",
    "    return None\n",
    "\n",
    "def get_almanac(driver, search_term, download_path):\n",
    "    almanac_search_url = ('http://climate.weather.gc.ca/climateData/almanacselection_e.html'\n",
    "                          '?Month=9&Day=23&Year=2015&timeframe=4&txtStationName=')\n",
    "    driver.get(almanac_search_url)\n",
    "    box = driver.wait.until(EC.presence_of_element_located((By.ID, 'stationName')))\n",
    "    button = driver.wait.until(EC.element_to_be_clickable((By.NAME, \"stnSubmit\")))\n",
    "    box.send_keys(search_term)\n",
    "    button.click()\n",
    "    \n",
    "    # if there is a search results screen\n",
    "    if 'almanac_results' in driver.current_url:\n",
    "        # there are many stnSubmit buttons on the page. click the first button. \n",
    "        first_button = driver.wait.until(EC.element_to_be_clickable((By.NAME, \"stnSubmit\")))\n",
    "        first_button.click()\n",
    "    \n",
    "    stn_id = get_stn_id_from_url(driver.current_url)\n",
    "    download_data_button = driver.wait.until(EC.element_to_be_clickable((By.NAME, \"submit\")))\n",
    "    # delete old datafile\n",
    "    if os.path.exists(download_path + 'eng-almanac-0101-1231.csv'):\n",
    "        os.remove(download_path + 'eng-almanac-0101-1231.csv')\n",
    "    download_data_button.click()\n",
    "    time.sleep(5)\n",
    "    os.rename(download_path + 'eng-almanac-0101-1231.csv', download_path+create_filename(search_term))\n",
    "    \n",
    "    \n",
    "def get_metadata(file_path):\n",
    "    f = open(file_path, 'r')\n",
    "    s = f.readlines()\n",
    "    f.close()\n",
    "    obj = {}\n",
    "    n = 0\n",
    "    while s[n] != '\\n':\n",
    "        prop = s[n].split(',')[0][1:-1]\n",
    "        val = s[n].split(',')[1][1:-2]\n",
    "        obj[prop] = val\n",
    "        n+=1\n",
    "    return obj\n",
    "\n",
    "def create_filename(name):\n",
    "    return ''.join(['_' if c == ' ' else c for c in name]) + '.csv'"
   ]
  },
  {
   "cell_type": "code",
   "execution_count": 3,
   "metadata": {
    "collapsed": false
   },
   "outputs": [],
   "source": [
    "almanac_path = \"/Users/stephenmcmurtry/work/weather_chart/data/almanac/\"\n",
    "driver = init_driver(almanac_path)\n",
    "# driver.quit()"
   ]
  },
  {
   "cell_type": "code",
   "execution_count": 5,
   "metadata": {
    "collapsed": true
   },
   "outputs": [],
   "source": [
    "list_of_stations = ['TORONTO INTL A', 'OTTAWA INTL A', 'MONTREAL INTL A', \n",
    "                    'VANCOUVER INTL A', 'CALGARY INTL A', 'YELLOWKNIFE A',\n",
    "                    'WHITEHORSE A', 'SASKATOON INTL A', 'REGINA INTL A', \n",
    "                    'EDMONTON INTL A', 'PETERBOROUGH', 'HALIFAX INTL A', \n",
    "                    'FREDERICTON', 'IQALUIT A', \"ST. JOHN'S INTL A\", \n",
    "                    'VICTORIA INTL A', 'WINNIPEG INTL A', 'CHARLOTTETOWN A']"
   ]
  },
  {
   "cell_type": "code",
   "execution_count": 4,
   "metadata": {
    "collapsed": false
   },
   "outputs": [],
   "source": [
    "get_almanac(driver, 'peterborough', almanac_path)"
   ]
  },
  {
   "cell_type": "code",
   "execution_count": 31,
   "metadata": {
    "collapsed": false
   },
   "outputs": [],
   "source": [
    "for c in list_of_stations:\n",
    "    try:\n",
    "        get_almanac(driver, c, almanac_path)\n",
    "    except:\n",
    "        continue"
   ]
  },
  {
   "cell_type": "markdown",
   "metadata": {},
   "source": [
    "## Historical Monthly Precipitation "
   ]
  },
  {
   "cell_type": "code",
   "execution_count": 57,
   "metadata": {
    "collapsed": true
   },
   "outputs": [],
   "source": [
    "def get_climage_url(stn_id):\n",
    "    return 'http://climate.weather.gc.ca/climate_normals/results_1981_2010_e.html?stnID=' + str(stn_id) + '&autofwd=1'"
   ]
  },
  {
   "cell_type": "code",
   "execution_count": 74,
   "metadata": {
    "collapsed": false
   },
   "outputs": [],
   "source": [
    "def get_precip_data(driver, stn_id, download_path):\n",
    "    driver.get(get_climage_url(stn_id))\n",
    "    button = driver.wait.until(EC.element_to_be_clickable((By.LINK_TEXT, \"Normals Data\")))\n",
    "    button.click()\n",
    "    download_button = driver.wait.until(EC.element_to_be_clickable((By.NAME, \"submit\")))\n",
    "    download_button.click()\n",
    "    time.sleep(5)\n",
    "    for f in os.listdir(precip_path):\n",
    "        if '.csv' in f and 'normals' in f:\n",
    "            filename = f\n",
    "            break\n",
    "    os.rename(download_path+filename, download_path + str(stn_id) + '.csv')"
   ]
  },
  {
   "cell_type": "code",
   "execution_count": 67,
   "metadata": {
    "collapsed": true
   },
   "outputs": [],
   "source": [
    "precip_path = \"/Users/stephenmcmurtry/work/weather_chart/data/precipitation/\"\n",
    "driver = init_driver(precip_path)"
   ]
  },
  {
   "cell_type": "code",
   "execution_count": 77,
   "metadata": {
    "collapsed": false
   },
   "outputs": [],
   "source": [
    "for f in os.listdir(almanac_path):\n",
    "    if '.csv' in f:\n",
    "        stn_id = f.split('.')[0]\n",
    "        try:\n",
    "            get_precip_data(driver, stn_id, precip_path)\n",
    "        except:\n",
    "            continue"
   ]
  },
  {
   "cell_type": "markdown",
   "metadata": {},
   "source": [
    "## Last year's daily high and low temperatures and precipitation "
   ]
  },
  {
   "cell_type": "code",
   "execution_count": 113,
   "metadata": {
    "collapsed": true
   },
   "outputs": [],
   "source": [
    "def get_daily_weather_data(driver, stn_name, download_path):\n",
    "    driver.get('http://climate.weather.gc.ca/')\n",
    "    daily_button = driver.wait.until(EC.element_to_be_clickable((By.ID, \"daily\")))\n",
    "    daily_button.click()\n",
    "    year_selector = Select(driver.wait.until(EC.presence_of_element_located((By.ID, 'year'))))\n",
    "    year_selector.select_by_value('2014')\n",
    "    box = driver.wait.until(EC.presence_of_element_located((By.ID, 'stationName')))\n",
    "    box.send_keys(stn_name)\n",
    "    submit_button = driver.wait.until(EC.element_to_be_clickable((By.NAME, \"stnSubmit\")))\n",
    "    submit_button.click()\n",
    "    download_button = driver.wait.until(EC.element_to_be_clickable((By.NAME, \"submit\")))\n",
    "    download_button.click()\n",
    "    stn_id = get_stn_id_from_url(driver.current_url)\n",
    "    time.sleep(5)\n",
    "    for f in os.listdir(download_path):\n",
    "        if '.csv' in f and 'daily' in f:\n",
    "            filename = f\n",
    "            break\n",
    "    os.rename(download_path+filename, download_path + str(stn_id) + '.csv')"
   ]
  },
  {
   "cell_type": "code",
   "execution_count": 111,
   "metadata": {
    "collapsed": true
   },
   "outputs": [],
   "source": [
    "daily_weather_path = \"/Users/stephenmcmurtry/work/weather_chart/data/daily_weather/\"\n",
    "driver = init_driver(daily_weather_path)"
   ]
  },
  {
   "cell_type": "code",
   "execution_count": 114,
   "metadata": {
    "collapsed": true
   },
   "outputs": [],
   "source": [
    "get_daily_weather_data(driver, 'toronto intl a', daily_weather_path)"
   ]
  },
  {
   "cell_type": "code",
   "execution_count": 124,
   "metadata": {
    "collapsed": false
   },
   "outputs": [],
   "source": [
    "for f in os.listdir(almanac_path):\n",
    "    if '.csv' in f:\n",
    "        alm_file = open(almanac_path + f, 'r')\n",
    "        first_line = alm_file.readline()\n",
    "        alm_file.close()\n",
    "        stn_name = first_line.split('\"')[-2]\n",
    "        try:\n",
    "            get_daily_weather_data(driver, stn_name, daily_weather_path)\n",
    "        except:\n",
    "            continue"
   ]
  },
  {
   "cell_type": "code",
   "execution_count": null,
   "metadata": {
    "collapsed": true
   },
   "outputs": [],
   "source": [
    "http://climate.weather.gc.ca/climateData/almanacselection_e.html?Month=9&Day=23&Year=2015&timeframe=4&txtStationName="
   ]
  },
  {
   "cell_type": "code",
   "execution_count": 14,
   "metadata": {
    "collapsed": true
   },
   "outputs": [],
   "source": [
    "driver.quit()"
   ]
  },
  {
   "cell_type": "code",
   "execution_count": 6,
   "metadata": {
    "collapsed": false
   },
   "outputs": [],
   "source": [
    "import test as t"
   ]
  },
  {
   "cell_type": "markdown",
   "metadata": {
    "collapsed": true
   },
   "source": [
    "### "
   ]
  },
  {
   "cell_type": "code",
   "execution_count": 7,
   "metadata": {
    "collapsed": false
   },
   "outputs": [
    {
     "ename": "TypeError",
     "evalue": "'module' object is not callable",
     "output_type": "error",
     "traceback": [
      "\u001b[0;31m---------------------------------------------------------------------------\u001b[0m",
      "\u001b[0;31mTypeError\u001b[0m                                 Traceback (most recent call last)",
      "\u001b[0;32m<ipython-input-7-36e7d7285acb>\u001b[0m in \u001b[0;36m<module>\u001b[0;34m()\u001b[0m\n\u001b[0;32m----> 1\u001b[0;31m \u001b[0mt\u001b[0m\u001b[0;34m(\u001b[0m\u001b[0;34m'abc'\u001b[0m\u001b[0;34m)\u001b[0m\u001b[0;34m\u001b[0m\u001b[0m\n\u001b[0m",
      "\u001b[0;31mTypeError\u001b[0m: 'module' object is not callable"
     ]
    }
   ],
   "source": [
    "t('abc')"
   ]
  },
  {
   "cell_type": "code",
   "execution_count": 8,
   "metadata": {
    "collapsed": false
   },
   "outputs": [
    {
     "data": {
      "text/plain": [
       "_StoreAction(option_strings=[], dest='integers', nargs='+', const=None, default=None, type=<type 'int'>, choices=None, help='an integer for the accumulator', metavar='N')"
      ]
     },
     "execution_count": 8,
     "metadata": {},
     "output_type": "execute_result"
    }
   ],
   "source": [
    "import argparse\n",
    "\n",
    "parser = argparse.ArgumentParser(description='Process some integers.')\n",
    "parser.add_argument('integers', metavar='N', type=int, nargs='+',\n",
    "                   help='an integer for the accumulator')"
   ]
  },
  {
   "cell_type": "code",
   "execution_count": null,
   "metadata": {
    "collapsed": true
   },
   "outputs": [],
   "source": [
    "parser.add_argument()"
   ]
  }
 ],
 "metadata": {
  "kernelspec": {
   "display_name": "Python 2",
   "language": "python",
   "name": "python2"
  },
  "language_info": {
   "codemirror_mode": {
    "name": "ipython",
    "version": 2
   },
   "file_extension": ".py",
   "mimetype": "text/x-python",
   "name": "python",
   "nbconvert_exporter": "python",
   "pygments_lexer": "ipython2",
   "version": "2.7.10"
  }
 },
 "nbformat": 4,
 "nbformat_minor": 0
}
